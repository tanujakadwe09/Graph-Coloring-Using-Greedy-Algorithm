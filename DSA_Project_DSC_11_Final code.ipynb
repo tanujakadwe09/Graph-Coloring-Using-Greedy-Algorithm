{
 "cells": [
  {
   "cell_type": "markdown",
   "id": "5791a42b",
   "metadata": {},
   "source": [
    "# 21DS603 - Data Structures and Algorithms for Data Science\n",
    "\n",
    "## SEMESTER 1 - TERM PROJECT\n",
    "\n",
    "DONE BY,  \n",
    "\n",
    "MEGHA R - CB.SC.P2DSC23010 \n",
    "\n",
    "KADWE TANUJA PRAVIN - CB.SC.P2DSC23011\n",
    "\n",
    "                            \n",
    "\n",
    "                                                                                       GUIDE,\n",
    "                                                                                             \n",
    "                                                                                             Dr. PRATITI BHADRA\n"
   ]
  },
  {
   "cell_type": "markdown",
   "id": "ef9a6577",
   "metadata": {},
   "source": [
    "# GRAPH COLORING USING GREEDY COLORING ALGORITHM "
   ]
  },
  {
   "cell_type": "code",
   "execution_count": 33,
   "id": "de19c4a4",
   "metadata": {},
   "outputs": [],
   "source": [
    "def greedy_coloring(graph):\n",
    "    colors = {}\n",
    "\n",
    "    for vertex in graph:\n",
    "        neighbors = set(graph[vertex]) # extracts the neighbors of the current vertex and converts them into a set to \n",
    "                                                                                     # eliminate duplicate neighbors.\n",
    "        used_colors = set() # used to store the colors that is already assigned to the neighbour of the current vertex\n",
    "        \n",
    "        used_colors = {colors[neighbor] for neighbor in neighbors if neighbor in colors}\n",
    " \n",
    "        color = 0\n",
    "        while color in used_colors:\n",
    "            color += 1\n",
    "\n",
    "        colors[vertex] = color\n",
    "\n",
    "    return colors\n"
   ]
  },
  {
   "cell_type": "code",
   "execution_count": 34,
   "id": "06ed9b21",
   "metadata": {},
   "outputs": [],
   "source": [
    "def read_graph():\n",
    "    graph = {}\n",
    "    while True:\n",
    "        vertex = input(\"Enter a vertex (or 'exit' to finish): \")\n",
    "        if (vertex.lower() == 'exit'):\n",
    "            break\n",
    "\n",
    "        neighbors = input(f\"Enter neighbors for {vertex} separated by spaces: \").split()\n",
    "        graph[vertex] = neighbors # updates the graph dictionary associating the current vertex with its list of neighbours \n",
    "\n",
    "    return graph\n"
   ]
  },
  {
   "cell_type": "code",
   "execution_count": 35,
   "id": "745ddd44",
   "metadata": {},
   "outputs": [],
   "source": [
    "def print_colored_vertices(colors):\n",
    "    for vertex, color in colors.items():\n",
    "        print(f\"{vertex}: Color {color}\")\n"
   ]
  },
  {
   "cell_type": "code",
   "execution_count": 36,
   "id": "53162fd6",
   "metadata": {},
   "outputs": [],
   "source": [
    "def display_graph(graph):\n",
    "    print(\"Graph:\")\n",
    "    for vertex, neighbors in graph.items():\n",
    "        print(f\"{vertex}: {', '.join(neighbors)}\")"
   ]
  },
  {
   "cell_type": "code",
   "execution_count": 39,
   "id": "50e126df",
   "metadata": {},
   "outputs": [
    {
     "name": "stdout",
     "output_type": "stream",
     "text": [
      "Enter a vertex (or 'exit' to finish): 1\n",
      "Enter neighbors for 1 separated by spaces: 2 3 4\n",
      "Enter a vertex (or 'exit' to finish): 2\n",
      "Enter neighbors for 2 separated by spaces: 1 3\n",
      "Enter a vertex (or 'exit' to finish): 3\n",
      "Enter neighbors for 3 separated by spaces: 1 2\n",
      "Enter a vertex (or 'exit' to finish): 4\n",
      "Enter neighbors for 4 separated by spaces: 1\n",
      "Enter a vertex (or 'exit' to finish): exit\n",
      "Graph:\n",
      "1: 2, 3, 4\n",
      "2: 1, 3\n",
      "3: 1, 2\n",
      "4: 1\n",
      "After coloring the graph: \n",
      "1: Color 0\n",
      "2: Color 1\n",
      "3: Color 2\n",
      "4: Color 1\n"
     ]
    }
   ],
   "source": [
    "graph = read_graph()\n",
    "display_graph(graph)\n",
    "colors = greedy_coloring(graph)\n",
    "print(\"After coloring the graph: \")\n",
    "print_colored_vertices(colors)\n"
   ]
  },
  {
   "cell_type": "code",
   "execution_count": null,
   "id": "f8cc57dd",
   "metadata": {},
   "outputs": [],
   "source": []
  }
 ],
 "metadata": {
  "kernelspec": {
   "display_name": "Python 3 (ipykernel)",
   "language": "python",
   "name": "python3"
  },
  "language_info": {
   "codemirror_mode": {
    "name": "ipython",
    "version": 3
   },
   "file_extension": ".py",
   "mimetype": "text/x-python",
   "name": "python",
   "nbconvert_exporter": "python",
   "pygments_lexer": "ipython3",
   "version": "3.11.3"
  }
 },
 "nbformat": 4,
 "nbformat_minor": 5
}
